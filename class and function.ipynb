{
 "cells": [
  {
   "cell_type": "code",
   "execution_count": 9,
   "id": "bc159bc7-9151-4e1b-b4f5-3ac72db9334b",
   "metadata": {},
   "outputs": [
    {
     "data": {
      "text/plain": [
       "'이름:이대훈, 성별:남자, 나이: 32'"
      ]
     },
     "execution_count": 9,
     "metadata": {},
     "output_type": "execute_result"
    }
   ],
   "source": [
    "class Person:\n",
    "    def __init__(self,name,gender,age):\n",
    "        self.name=name\n",
    "        self.gender=gender\n",
    "        self.age=age\n",
    "\n",
    "    def dysplay(self):\n",
    "        return f\"이름:{self.name}, 성별:{self.gender}, 나이: {self.age}\"\n",
    "\n",
    "p1=Person(\"이대훈\", \"남자\", \"32\")\n",
    "p1.dysplay()"
   ]
  },
  {
   "cell_type": "code",
   "execution_count": 2,
   "id": "a7ab068c-91dc-4049-95b0-f2c5c6f4eb4b",
   "metadata": {},
   "outputs": [
    {
     "name": "stdin",
     "output_type": "stream",
     "text": [
      "이름 이대훈\n",
      "성별 남자\n",
      "나이 32\n"
     ]
    },
    {
     "data": {
      "text/plain": [
       "'이름:name, 성별:gender, 나이: age'"
      ]
     },
     "execution_count": 2,
     "metadata": {},
     "output_type": "execute_result"
    }
   ],
   "source": [
    "class Person:\n",
    "    def __init__(self,name,gender,age):\n",
    "        self.name=name\n",
    "        self.gender=gender\n",
    "        self.age=age\n",
    "\n",
    "    def display(self):\n",
    "        return f\"이름:{self.name}, 성별:{self.gender}, 나이: {self.age}\"\n",
    "        \n",
    "name=input(\"이름\")\n",
    "gender=input(\"성별\")\n",
    "age=input(\"나이\")\n",
    "\n",
    "p1=Person(\"name\", \"gender\", \"age\")\n",
    "p1.display()"
   ]
  },
  {
   "cell_type": "code",
   "execution_count": 27,
   "id": "5c0af263-6645-4a6b-801c-2a0141d5b51c",
   "metadata": {},
   "outputs": [
    {
     "name": "stdin",
     "output_type": "stream",
     "text": [
      "이름 이대훈\n",
      "성별 남자\n",
      "나이 32\n"
     ]
    },
    {
     "data": {
      "text/plain": [
       "'이름:이대훈, 성별:남자, 나이: 32'"
      ]
     },
     "execution_count": 27,
     "metadata": {},
     "output_type": "execute_result"
    }
   ],
   "source": [
    "class Person:\n",
    "    def __init__(self,name,gender,age):\n",
    "        self.name=name\n",
    "        self.gender=gender\n",
    "        self.age=age\n",
    "\n",
    "    def display(self):\n",
    "        return f\"이름:{self.name}, 성별:{self.gender}, 나이: {self.age}\"\n",
    "        \n",
    "name=input(\"이름\")\n",
    "gender=input(\"성별\")\n",
    "age=input(\"나이\")\n",
    "\n",
    "p1=Person(name, gender, age)\n",
    "p1.display()"
   ]
  },
  {
   "cell_type": "code",
   "execution_count": 8,
   "id": "e103c732-a339-4877-a22b-f46765146798",
   "metadata": {},
   "outputs": [
    {
     "name": "stdin",
     "output_type": "stream",
     "text": [
      "이름: 이대훈\n",
      "성별(male or female): male\n",
      "나이: 32\n"
     ]
    },
    {
     "name": "stdout",
     "output_type": "stream",
     "text": [
      "이름:이대훈, 성별:male \n",
      "나이: 32\n"
     ]
    }
   ],
   "source": [
    "class Person:\n",
    "    def __init__(self,name,gender,age):\n",
    "        self.name=name\n",
    "        self.gender=gender\n",
    "        self.age=age\n",
    "\n",
    "    def display(self):\n",
    "        return f\"이름:{self.name}, 성별:{self.gender} \\n나이: {self.age}\"\n",
    "        \n",
    "name=input(\"이름:\")\n",
    "gender=input(\"성별(male or female):\")\n",
    "age=int(input(\"나이:\"))\n",
    "\n",
    "p1=Person(name, gender, age)\n",
    "print(p1.display())"
   ]
  }
 ],
 "metadata": {
  "kernelspec": {
   "display_name": "My Env",
   "language": "python",
   "name": "myenv"
  },
  "language_info": {
   "codemirror_mode": {
    "name": "ipython",
    "version": 3
   },
   "file_extension": ".py",
   "mimetype": "text/x-python",
   "name": "python",
   "nbconvert_exporter": "python",
   "pygments_lexer": "ipython3",
   "version": "3.12.6"
  }
 },
 "nbformat": 4,
 "nbformat_minor": 5
}
