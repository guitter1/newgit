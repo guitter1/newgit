{
 "cells": [
  {
   "cell_type": "code",
   "execution_count": 10,
   "id": "e103c732-a339-4877-a22b-f46765146798",
   "metadata": {},
   "outputs": [
    {
     "name": "stdin",
     "output_type": "stream",
     "text": [
      "이름: 이대훈\n",
      "성별: 남성\n",
      "나이: 32\n"
     ]
    },
    {
     "name": "stdout",
     "output_type": "stream",
     "text": [
      "이름:이대훈, 성별:남성 \n",
      "나이: 32\n"
     ]
    }
   ],
   "source": [
    "class Person:\n",
    "    def __init__(self,name,gender,age):\n",
    "        self.name=name\n",
    "        self.gender=gender\n",
    "        self.age=age\n",
    "\n",
    "    def display(self):\n",
    "        return f\"이름:{self.name}, 성별:{self.gender} \\n나이: {self.age}\"\n",
    "        \n",
    "name=input(\"이름:\")\n",
    "gender=input(\"성별:\")\n",
    "age=int(input(\"나이:\"))\n",
    "\n",
    "p1=Person(name, gender, age)\n",
    "print(p1.display())"
   ]
  },
  {
   "cell_type": "code",
   "execution_count": 18,
   "id": "70895232-55fd-4fde-a6ff-601de2b7b290",
   "metadata": {},
   "outputs": [
    {
     "name": "stdin",
     "output_type": "stream",
     "text": [
      "이름: 이대훈\n",
      "성별(male or female): 남자\n"
     ]
    },
    {
     "name": "stdout",
     "output_type": "stream",
     "text": [
      "male 또는 female로 입력하세요\n"
     ]
    },
    {
     "name": "stdin",
     "output_type": "stream",
     "text": [
      "성별(male or female): male\n",
      "나이: 32\n"
     ]
    },
    {
     "name": "stdout",
     "output_type": "stream",
     "text": [
      "이름:이대훈, 성별:male \n",
      "나이: 32\n"
     ]
    }
   ],
   "source": [
    "class Person:\n",
    "    def __init__(self,name,gender,age):\n",
    "        self.name=name\n",
    "        self.gender=gender\n",
    "        self.age=age\n",
    "\n",
    "    def display(self):\n",
    "        return f\"이름:{self.name}, 성별:{self.gender} \\n나이: {self.age}\"\n",
    "        \n",
    "name=input(\"이름:\")\n",
    "gender=input(\"성별(male or female):\")\n",
    "while gender!='male' and gender!= 'female':\n",
    "    print('male 또는 female로 입력하세요')\n",
    "    gender=input(\"성별(male or female):\")\n",
    "\n",
    "age=int(input(\"나이:\"))\n",
    "\n",
    "p1=Person(name, gender, age)\n",
    "print(p1.display())"
   ]
  },
  {
   "cell_type": "code",
   "execution_count": 30,
   "id": "a20fe163-b56c-4704-ac84-b3de10e5e061",
   "metadata": {},
   "outputs": [
    {
     "name": "stdin",
     "output_type": "stream",
     "text": [
      "이름: 이대훈\n",
      "성별(male or female): 남성\n"
     ]
    },
    {
     "name": "stdout",
     "output_type": "stream",
     "text": [
      "male 또는 female로 입력하세요\n"
     ]
    },
    {
     "name": "stdin",
     "output_type": "stream",
     "text": [
      "성별(male or female): male\n",
      "나이: 32\n"
     ]
    },
    {
     "name": "stdout",
     "output_type": "stream",
     "text": [
      "이름:이대훈, 성별:male \n",
      "나이: 32\n",
      "안녕하세요, 이대훈! 성인입니다.\n"
     ]
    }
   ],
   "source": [
    "class Person:\n",
    "    def __init__(self,name,gender,age):\n",
    "        self.name=name\n",
    "        self.gender=gender\n",
    "        self.age=age\n",
    "\n",
    "    def display(self):\n",
    "        return f\"이름:{self.name}, 성별:{self.gender} \\n나이: {self.age}\"\n",
    "\n",
    "    def greet(self):\n",
    "        if self.age<11:\n",
    "            return f\"안녕하세요, {self.name}! 어린이입니다.\"\n",
    "        elif self.age<19 and self.age>11:\n",
    "            return f\"안녕하세요, {self.name}! 청소년입니다.\"\n",
    "        else:\n",
    "            return f\"안녕하세요, {self.name}! 성인입니다.\"\n",
    "name=input(\"이름:\")\n",
    "gender=input(\"성별(male or female):\")\n",
    "while gender!='male' and gender!= 'female':\n",
    "    print('male 또는 female로 입력하세요')\n",
    "    gender=input(\"성별(male or female):\")\n",
    "\n",
    "age=int(input(\"나이:\"))\n",
    "\n",
    "p1=Person(name, gender, age)\n",
    "print(p1.display())\n",
    "print(p1.greet())"
   ]
  }
 ],
 "metadata": {
  "kernelspec": {
   "display_name": "My Env",
   "language": "python",
   "name": "myenv"
  },
  "language_info": {
   "codemirror_mode": {
    "name": "ipython",
    "version": 3
   },
   "file_extension": ".py",
   "mimetype": "text/x-python",
   "name": "python",
   "nbconvert_exporter": "python",
   "pygments_lexer": "ipython3",
   "version": "3.12.6"
  }
 },
 "nbformat": 4,
 "nbformat_minor": 5
}
