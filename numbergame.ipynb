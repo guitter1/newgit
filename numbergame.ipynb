{
 "cells": [
  {
   "cell_type": "code",
   "execution_count": 1,
   "id": "40a08551-654c-4591-9fa2-8b3822dda8d6",
   "metadata": {},
   "outputs": [
    {
     "name": "stdin",
     "output_type": "stream",
     "text": [
      "1부터 10까지 중 숫자 중 하나를 정했습니다. 이 숫자는 무엇일까요?:  78\n"
     ]
    },
    {
     "name": "stdout",
     "output_type": "stream",
     "text": [
      "숫자의 범위를 다시 확인하세요.\n"
     ]
    },
    {
     "name": "stdin",
     "output_type": "stream",
     "text": [
      "1부터 10까지 중 숫자 중 하나를 정했습니다. 이 숫자는 무엇일까요?:  67\n"
     ]
    },
    {
     "name": "stdout",
     "output_type": "stream",
     "text": [
      "숫자의 범위를 다시 확인하세요.\n"
     ]
    },
    {
     "name": "stdin",
     "output_type": "stream",
     "text": [
      "1부터 10까지 중 숫자 중 하나를 정했습니다. 이 숫자는 무엇일까요?:  4\n"
     ]
    },
    {
     "name": "stdout",
     "output_type": "stream",
     "text": [
      "숫자를 줄이세요\n"
     ]
    },
    {
     "name": "stdin",
     "output_type": "stream",
     "text": [
      "1부터 10까지 중 숫자 중 하나를 정했습니다. 이 숫자는 무엇일까요?:  3\n"
     ]
    },
    {
     "name": "stdout",
     "output_type": "stream",
     "text": [
      "정답입니다\n"
     ]
    }
   ],
   "source": [
    "import random\n",
    "random=random.randrange(1,11)\n",
    "number = int(input('1부터 10까지 중 숫자 중 하나를 정했습니다. 이 숫자는 무엇일까요?: '))\n",
    "while number<1 or number>10:\n",
    "        print('숫자의 범위를 다시 확인하세요.')\n",
    "        number = int(input('1부터 10까지 중 숫자 중 하나를 정했습니다. 이 숫자는 무엇일까요?: '))\n",
    "            \n",
    "while number!=random:\n",
    "    if number>random:\n",
    "        print('숫자를 줄이세요')\n",
    "    elif number<random:\n",
    "        print('숫자를 키우세요')\n",
    "\n",
    "    number= int(input('1부터 10까지 중 숫자 중 하나를 정했습니다. 이 숫자는 무엇일까요?: '))\n",
    "            \n",
    "print('정답입니다')"
   ]
  }
 ],
 "metadata": {
  "kernelspec": {
   "display_name": "My Env",
   "language": "python",
   "name": "myenv"
  },
  "language_info": {
   "codemirror_mode": {
    "name": "ipython",
    "version": 3
   },
   "file_extension": ".py",
   "mimetype": "text/x-python",
   "name": "python",
   "nbconvert_exporter": "python",
   "pygments_lexer": "ipython3",
   "version": "3.12.6"
  }
 },
 "nbformat": 4,
 "nbformat_minor": 5
}
